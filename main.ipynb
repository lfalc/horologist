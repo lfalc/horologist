{
 "cells": [
  {
   "cell_type": "code",
   "execution_count": null,
   "metadata": {},
   "outputs": [],
   "source": [
    "import pandas as pd\n",
    "import numpy as np\n",
    "import matplotlib.pyplot as plt\n",
    "\n",
    "\n",
    "df = pd.read_csv('AOI_grouped_over_time.csv', header=0)\n",
    "total_time = len(df) / 300\n",
    "time = np.arange(0, total_time, 1/300)\n",
    "df.set_index(time, inplace=True)\n",
    "\n",
    "# Sort columns by total time spent\n",
    "column_sums = df.sum()\n",
    "sorted_sums = column_sums.sort_values()\n",
    "sorted_columns = sorted_sums.index\n",
    "df = df[sorted_columns]\n",
    "\n",
    "# Create a stackplot\n",
    "fig, ax = plt.subplots()\n",
    "lines = ax.stackplot(df.index, [np.convolve(df[col], np.ones(\n",
    "    300)/300, 'same') for col in df.columns], labels=df.columns)\n",
    "\n",
    "# Select the five largest columns\n",
    "largest_columns = df.columns[-5:]\n",
    "\n",
    "# Calculate the y position of each label\n",
    "y_pos = np.cumsum([np.convolve(df[df.columns[:df.columns.get_loc(\n",
    "    col)+1]].sum(axis=1), np.ones(300)/300, 'same')[-1] for col in largest_columns])\n",
    "\n",
    "# Calculate the x position of each label\n",
    "x_start = df.index[len(df.index)//7]\n",
    "x_end = df.index[len(df.index)*5//7]\n",
    "x_pos = np.linspace(x_start, x_end, len(largest_columns))\n",
    "\n",
    "# Add labels for each column\n",
    "for i, col in enumerate(largest_columns):\n",
    "    label = f'{col} (overall hits: {column_sums[col]:.0f})'\n",
    "    ax.text(x_pos[i], y_pos[i]*1.4+5, label, verticalalignment='center', fontsize=12)\n",
    "\n",
    "# Set size and labels\n",
    "fig.set_size_inches(28.5, 10.5)\n",
    "ax.set_title('AOI Grouped Over Time', fontsize=20)\n",
    "ax.set_xlabel('Time (s)')\n",
    "ax.set_ylabel('Hits per Sample')\n",
    "ax.legend(loc='upper right')"
   ]
  }
 ],
 "metadata": {
  "kernelspec": {
   "display_name": "Python 3",
   "language": "python",
   "name": "python3"
  },
  "language_info": {
   "codemirror_mode": {
    "name": "ipython",
    "version": 3
   },
   "file_extension": ".py",
   "mimetype": "text/x-python",
   "name": "python",
   "nbconvert_exporter": "python",
   "pygments_lexer": "ipython3",
   "version": "3.10.12"
  },
  "orig_nbformat": 4
 },
 "nbformat": 4,
 "nbformat_minor": 2
}
