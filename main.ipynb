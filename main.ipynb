{
 "cells": [
  {
   "cell_type": "code",
   "execution_count": 1,
   "metadata": {},
   "outputs": [
    {
     "name": "stderr",
     "output_type": "stream",
     "text": [
      "C:\\Users\\fal45830\\AppData\\Local\\Temp\\ipykernel_9284\\2124626165.py:3: DtypeWarning: Columns (37,38,65,66,67,68,69,70,72,84,85) have mixed types. Specify dtype option on import or set low_memory=False.\n",
      "  data = pd.read_csv('Uhren Data Export single.tsv', sep='\\t', header=0, index_col=0)\n"
     ]
    },
    {
     "name": "stdout",
     "output_type": "stream",
     "text": [
      "Index(['Computer timestamp', 'Sensor', 'Project name', 'Export date',\n",
      "       'Participant name', 'Recording name', 'Recording date',\n",
      "       'Recording date UTC', 'Recording start time',\n",
      "       'Recording start time UTC',\n",
      "       ...\n",
      "       'Client area position X (DACSpx)', 'Client area position Y (DACSpx)',\n",
      "       'Viewport position X', 'Viewport position Y', 'Viewport width',\n",
      "       'Viewport height', 'Full page width', 'Full page height',\n",
      "       'Mouse position X', 'Mouse position Y'],\n",
      "      dtype='object', length=206)\n"
     ]
    }
   ],
   "source": [
    "import pandas as pd\n",
    "\n",
    "data = pd.read_csv('Uhren Data Export single.tsv', sep='\\t', header=0, index_col=0)\n",
    "columns = data.columns\n",
    "print (columns)\n",
    "\n",
    "# data = data[[]]"
   ]
  }
 ],
 "metadata": {
  "kernelspec": {
   "display_name": "Python 3",
   "language": "python",
   "name": "python3"
  },
  "language_info": {
   "codemirror_mode": {
    "name": "ipython",
    "version": 3
   },
   "file_extension": ".py",
   "mimetype": "text/x-python",
   "name": "python",
   "nbconvert_exporter": "python",
   "pygments_lexer": "ipython3",
   "version": "3.9.1"
  },
  "orig_nbformat": 4
 },
 "nbformat": 4,
 "nbformat_minor": 2
}
